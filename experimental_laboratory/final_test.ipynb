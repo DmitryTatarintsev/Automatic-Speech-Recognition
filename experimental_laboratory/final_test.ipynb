{
 "cells": [
  {
   "cell_type": "code",
   "execution_count": 29,
   "id": "99ce8b95-700c-4e76-b975-d32a9ca781b9",
   "metadata": {},
   "outputs": [],
   "source": [
    "import os\n",
    "import librosa\n",
    "import numpy as np\n",
    "import pandas as pd\n",
    "import re"
   ]
  },
  {
   "cell_type": "code",
   "execution_count": 109,
   "id": "752648f2-11f7-4cc8-bf76-e0daadd5d417",
   "metadata": {},
   "outputs": [
    {
     "name": "stdout",
     "output_type": "stream",
     "text": [
      "C:\\Users\\dtata\\Downloads\\data\\data\n"
     ]
    },
    {
     "data": {
      "text/html": [
       "<div>\n",
       "<style scoped>\n",
       "    .dataframe tbody tr th:only-of-type {\n",
       "        vertical-align: middle;\n",
       "    }\n",
       "\n",
       "    .dataframe tbody tr th {\n",
       "        vertical-align: top;\n",
       "    }\n",
       "\n",
       "    .dataframe thead th {\n",
       "        text-align: right;\n",
       "    }\n",
       "</style>\n",
       "<table border=\"1\" class=\"dataframe\">\n",
       "  <thead>\n",
       "    <tr style=\"text-align: right;\">\n",
       "      <th></th>\n",
       "      <th>path</th>\n",
       "      <th>original</th>\n",
       "      <th>predict</th>\n",
       "      <th>equality</th>\n",
       "    </tr>\n",
       "  </thead>\n",
       "  <tbody>\n",
       "    <tr>\n",
       "      <th>0</th>\n",
       "      <td>false (1).mp3</td>\n",
       "      <td>0</td>\n",
       "      <td>0</td>\n",
       "      <td>True</td>\n",
       "    </tr>\n",
       "    <tr>\n",
       "      <th>1</th>\n",
       "      <td>false (10).mp3</td>\n",
       "      <td>0</td>\n",
       "      <td>0</td>\n",
       "      <td>True</td>\n",
       "    </tr>\n",
       "    <tr>\n",
       "      <th>2</th>\n",
       "      <td>false (11).mp3</td>\n",
       "      <td>0</td>\n",
       "      <td>0</td>\n",
       "      <td>True</td>\n",
       "    </tr>\n",
       "    <tr>\n",
       "      <th>3</th>\n",
       "      <td>false (12).mp3</td>\n",
       "      <td>0</td>\n",
       "      <td>0</td>\n",
       "      <td>True</td>\n",
       "    </tr>\n",
       "    <tr>\n",
       "      <th>4</th>\n",
       "      <td>false (2).mp3</td>\n",
       "      <td>0</td>\n",
       "      <td>0</td>\n",
       "      <td>True</td>\n",
       "    </tr>\n",
       "    <tr>\n",
       "      <th>...</th>\n",
       "      <td>...</td>\n",
       "      <td>...</td>\n",
       "      <td>...</td>\n",
       "      <td>...</td>\n",
       "    </tr>\n",
       "    <tr>\n",
       "      <th>56</th>\n",
       "      <td>true (5).mp3</td>\n",
       "      <td>1</td>\n",
       "      <td>1</td>\n",
       "      <td>True</td>\n",
       "    </tr>\n",
       "    <tr>\n",
       "      <th>57</th>\n",
       "      <td>true (6).mp3</td>\n",
       "      <td>1</td>\n",
       "      <td>1</td>\n",
       "      <td>True</td>\n",
       "    </tr>\n",
       "    <tr>\n",
       "      <th>58</th>\n",
       "      <td>true (7).mp3</td>\n",
       "      <td>1</td>\n",
       "      <td>1</td>\n",
       "      <td>True</td>\n",
       "    </tr>\n",
       "    <tr>\n",
       "      <th>59</th>\n",
       "      <td>true (8).mp3</td>\n",
       "      <td>1</td>\n",
       "      <td>1</td>\n",
       "      <td>True</td>\n",
       "    </tr>\n",
       "    <tr>\n",
       "      <th>60</th>\n",
       "      <td>true (9).mp3</td>\n",
       "      <td>1</td>\n",
       "      <td>1</td>\n",
       "      <td>True</td>\n",
       "    </tr>\n",
       "  </tbody>\n",
       "</table>\n",
       "<p>61 rows × 4 columns</p>\n",
       "</div>"
      ],
      "text/plain": [
       "              path  original  predict  equality\n",
       "0    false (1).mp3         0        0      True\n",
       "1   false (10).mp3         0        0      True\n",
       "2   false (11).mp3         0        0      True\n",
       "3   false (12).mp3         0        0      True\n",
       "4    false (2).mp3         0        0      True\n",
       "..             ...       ...      ...       ...\n",
       "56    true (5).mp3         1        1      True\n",
       "57    true (6).mp3         1        1      True\n",
       "58    true (7).mp3         1        1      True\n",
       "59    true (8).mp3         1        1      True\n",
       "60    true (9).mp3         1        1      True\n",
       "\n",
       "[61 rows x 4 columns]"
      ]
     },
     "metadata": {},
     "output_type": "display_data"
    },
    {
     "data": {
      "text/plain": [
       "equality\n",
       "True     58\n",
       "False     3\n",
       "Name: count, dtype: int64"
      ]
     },
     "metadata": {},
     "output_type": "display_data"
    }
   ],
   "source": [
    "%cd C:\\Users\\dtata\\Downloads\\data\\data\n",
    "\n",
    "label = lambda text: 1 if re.sub(r' .*$', '', text).capitalize()=='True' else 0\n",
    "easy_model = lambda y, sr: 1 if np.min(list(map(np.min, librosa.feature.chroma_stft(y=y, sr=sr)))) < 0.003046*.02 else 0\n",
    "def predict(original_path):\n",
    "    y, sr = librosa.load(original_path)\n",
    "    return easy_model(y,sr)\n",
    "\n",
    "original = os.listdir('.')\n",
    "original_lst = []\n",
    "predict_lst = []\n",
    "\n",
    "for i in range(len(original)):\n",
    "    text = original[i]\n",
    "    original_lst.append(label(text))\n",
    "    predict_lst.append(predict(text))\n",
    "\n",
    "data = pd.DataFrame()\n",
    "data['path'] = original\n",
    "data['original'] = original_lst\n",
    "data['predict'] = predict_lst\n",
    "data['equality'] = data['original'] == data['predict']\n",
    "display(data)\n",
    "\n",
    "#True - верные ответы. False - ошибочные распознания\n",
    "display(data.value_counts('equality'))"
   ]
  },
  {
   "cell_type": "code",
   "execution_count": 95,
   "id": "8a0e6943-1a5e-401f-a86d-653eb0762d92",
   "metadata": {},
   "outputs": [],
   "source": [
    "import matplotlib.pyplot as plt\n",
    "import seaborn as sns\n",
    "from sklearn.metrics import recall_score, precision_score\n",
    "from tensorflow.math import confusion_matrix as tensorflow_confusion_matrix\n",
    "from sklearn.metrics import confusion_matrix as sklearn_confusion_matrix\n",
    "\n",
    "# визуализируем матрицы ошибок\n",
    "def get_confusion_matrix(y_pred, y_test, title='Тест'):\n",
    "    # Получаем истинные метки\n",
    "    y_true = y_test\n",
    "\n",
    "    # проверим модель на эффективность. Выводим матрицу ошибок\n",
    "    recall = (\"recall: %.2f\" % recall_score(y_true, y_pred))\n",
    "    precision = (\"precision: %.2f\" % precision_score(y_true, y_pred))\n",
    "\n",
    "    # Создаем фигуру с двумя подграфиками, расположенными рядом\n",
    "    fig, axes = plt.subplots(1, 2, figsize=(12, 6))\n",
    "\n",
    "    # Строим вторую тепловую карту на втором подграфике\n",
    "    cm = tensorflow_confusion_matrix(y_true, y_pred)\n",
    "    sns.heatmap(cm, annot=True, fmt='d', ax=axes[0])\n",
    "    axes[0].set_title(f'{title}. {recall}, {precision}')\n",
    "\n",
    "    # Строим первую тепловую карту на первом подграфике\n",
    "    cm = sklearn_confusion_matrix(y_true, y_pred, normalize='true')\n",
    "    sns.heatmap(cm, annot=True, ax=axes[1])\n",
    "    axes[1].set_title('Соотношение в процентах. Итоговая точность: {0}'.format(round((cm[0][0]+cm[1][1])/2, 2)))\n",
    "\n",
    "    plt.show()"
   ]
  },
  {
   "cell_type": "code",
   "execution_count": 111,
   "id": "d47217bb-17bd-42c9-93c9-2610a5355226",
   "metadata": {},
   "outputs": [
    {
     "data": {
      "image/png": "[encoded data removed]",
      "text/plain": [
       "<Figure size 1200x600 with 4 Axes>"
      ]
     },
     "metadata": {},
     "output_type": "display_data"
    }
   ],
   "source": [
    "get_confusion_matrix(np.array(data['predict']), np.array(data['original']), title='Тест')"
   ]
  },
  {
   "cell_type": "code",
   "execution_count": null,
   "id": "27a53d5d-cc9b-495a-9eaa-dc2fac4f9c53",
   "metadata": {},
   "outputs": [],
   "source": []
  }
 ],
 "metadata": {
  "kernelspec": {
   "display_name": "Python 3 (ipykernel)",
   "language": "python",
   "name": "python3"
  },
  "language_info": {
   "codemirror_mode": {
    "name": "ipython",
    "version": 3
   },
   "file_extension": ".py",
   "mimetype": "text/x-python",
   "name": "python",
   "nbconvert_exporter": "python",
   "pygments_lexer": "ipython3",
   "version": "3.12.4"
  }
 },
 "nbformat": 4,
 "nbformat_minor": 5
}
